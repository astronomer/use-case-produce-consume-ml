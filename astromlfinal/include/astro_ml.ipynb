{
 "cells": [
  {
   "cell_type": "code",
   "execution_count": 1,
   "metadata": {},
   "outputs": [],
   "source": [
    "import os\n",
    "from datetime import datetime\n",
    "\n",
    "os.environ['AWS_ACCESS_KEY_ID']='minioadmin'\n",
    "os.environ['AWS_SECRET_ACCESS_KEY']='minioadmin'\n",
    "\n",
    "model_id = datetime.utcnow().strftime(\"%y_%d_%m_%H_%M_%S_%f\")\n",
    "model_dir = os.path.join('s3://models', model_id)"
   ]
  },
  {
   "cell_type": "code",
   "execution_count": 2,
   "metadata": {},
   "outputs": [],
   "source": [
    "#Download data and save it to S3\n",
    "from s3fs import S3FileSystem\n",
    "from sklearn.datasets import fetch_california_housing\n",
    "\n",
    "housing_df = fetch_california_housing(download_if_missing=True, as_frame=True).frame\n",
    "\n",
    "fs = S3FileSystem(key='minioadmin', secret='minioadmin', client_kwargs={'endpoint_url': \"http://localhost:9000/\"})\n",
    "with fs.open('s3://data/housing_df.csv', 'wb') as f:\n",
    "    f.write(housing_df.to_csv(index=False).encode())"
   ]
  },
  {
   "cell_type": "code",
   "execution_count": 3,
   "metadata": {},
   "outputs": [],
   "source": [
    "#Make sure we can read it back\n",
    "from s3fs import S3FileSystem\n",
    "import pandas as pd\n",
    "fs = S3FileSystem(key='minioadmin', secret='minioadmin', client_kwargs={'endpoint_url': \"http://localhost:9000/\"})\n",
    "\n",
    "with fs.open('s3://data/housing_df.csv', 'rb') as f:\n",
    "    housing_df = pd.read_csv(f)"
   ]
  },
  {
   "cell_type": "code",
   "execution_count": 4,
   "metadata": {},
   "outputs": [],
   "source": [
    "#Feature engineering\n",
    "from sklearn.preprocessing import StandardScaler\n",
    "from joblib import dump\n",
    "\n",
    "target = 'MedHouseVal'\n",
    "X = housing_df.drop(target, axis=1)\n",
    "y = housing_df[target]\n",
    "\n",
    "scaler = StandardScaler()\n",
    "X = pd.DataFrame(scaler.fit_transform(X), columns=X.columns)\n",
    "metrics_df = pd.DataFrame(scaler.mean_, index=X.columns)[0].to_dict()\n",
    "\n",
    "#Save scalar for later monitoring and eval\n",
    "with fs.open(model_dir+'/scalar.joblib', 'wb') as f:\n",
    "    dump([metrics_df, scaler], f) "
   ]
  },
  {
   "cell_type": "code",
   "execution_count": 5,
   "metadata": {},
   "outputs": [],
   "source": [
    "#Train a model\n",
    "from sklearn.linear_model import RidgeCV\n",
    "from sklearn.model_selection import cross_validate\n",
    "import numpy as np\n",
    "import pandas as pd\n",
    "from joblib import dump\n",
    "\n",
    "target = 'MedHouseVal'\n",
    "model = RidgeCV(alphas=np.logspace(-3, 1, num=30))\n",
    "reg = model.fit(X, y)\n",
    "\n",
    "with fs.open(model_dir+'/ridgecv.joblib', 'wb') as f:\n",
    "    dump(model, f) "
   ]
  },
  {
   "cell_type": "code",
   "execution_count": 6,
   "metadata": {},
   "outputs": [],
   "source": [
    "#Score the data\n",
    "from joblib import load\n",
    "\n",
    "with fs.open(model_dir+'/ridgecv.joblib', 'rb') as f:\n",
    "    loaded_model = load(f) \n",
    "\n",
    "X['pred'] = loaded_model.predict(X)\n",
    "X[target] = y\n"
   ]
  },
  {
   "cell_type": "code",
   "execution_count": 7,
   "metadata": {},
   "outputs": [],
   "source": [
    "#Write data with predictions to S3\n",
    "from joblib import dump, load\n",
    "\n",
    "with fs.open('s3://data/housing_pred.csv', 'wb') as f:\n",
    "    f.write(X.to_csv(index=False).encode())"
   ]
  },
  {
   "cell_type": "code",
   "execution_count": null,
   "metadata": {},
   "outputs": [],
   "source": []
  }
 ],
 "metadata": {
  "kernelspec": {
   "display_name": "Python 3.8.15 ('snowpark_env')",
   "language": "python",
   "name": "python3"
  },
  "language_info": {
   "codemirror_mode": {
    "name": "ipython",
    "version": 3
   },
   "file_extension": ".py",
   "mimetype": "text/x-python",
   "name": "python",
   "nbconvert_exporter": "python",
   "pygments_lexer": "ipython3",
   "version": "3.8.15"
  },
  "orig_nbformat": 4,
  "vscode": {
   "interpreter": {
    "hash": "084830ef4bd753686d3b491d998ecd90799bdf0b5dcd9517c01902e8176a4901"
   }
  }
 },
 "nbformat": 4,
 "nbformat_minor": 2
}
